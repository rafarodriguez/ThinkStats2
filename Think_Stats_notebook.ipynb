{
  "nbformat": 4,
  "nbformat_minor": 0,
  "metadata": {
    "colab": {
      "name": "Think Stats notebook",
      "provenance": [],
      "mount_file_id": "19MsjItrzR-5xJ0oyg7H0ds_0POTxQpMA",
      "authorship_tag": "ABX9TyNw4umltLRwNY8Qnh6JJc2D",
      "include_colab_link": true
    },
    "kernelspec": {
      "name": "python3",
      "display_name": "Python 3"
    }
  },
  "cells": [
    {
      "cell_type": "markdown",
      "metadata": {
        "id": "view-in-github",
        "colab_type": "text"
      },
      "source": [
        "<a href=\"https://colab.research.google.com/github/rafarodriguez/ThinkStats2/blob/master/Think_Stats_notebook.ipynb\" target=\"_parent\"><img src=\"https://colab.research.google.com/assets/colab-badge.svg\" alt=\"Open In Colab\"/></a>"
      ]
    },
    {
      "cell_type": "markdown",
      "metadata": {
        "id": "v-3p2mFIE6zF",
        "colab_type": "text"
      },
      "source": [
        "# Preface\n",
        "Check Python dependencies\n"
      ]
    },
    {
      "cell_type": "code",
      "metadata": {
        "id": "Nogt64Z-CLOh",
        "colab_type": "code",
        "colab": {}
      },
      "source": [
        "import pandas\n",
        "import numpy\n",
        "import scipy\n",
        "import statsmodels\n",
        "import matplotlib"
      ],
      "execution_count": 1,
      "outputs": []
    }
  ]
}